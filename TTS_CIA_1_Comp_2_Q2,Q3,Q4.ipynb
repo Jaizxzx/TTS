{
  "nbformat": 4,
  "nbformat_minor": 0,
  "metadata": {
    "colab": {
      "provenance": [],
      "authorship_tag": "ABX9TyN5s2EuvMySy3zLz9CmcMV7",
      "include_colab_link": true
    },
    "kernelspec": {
      "name": "python3",
      "display_name": "Python 3"
    },
    "language_info": {
      "name": "python"
    }
  },
  "cells": [
    {
      "cell_type": "markdown",
      "metadata": {
        "id": "view-in-github",
        "colab_type": "text"
      },
      "source": [
        "<a href=\"https://colab.research.google.com/github/Jaizxzx/TTS/blob/main/TTS_CIA_1_Comp_2_Q2%2CQ3%2CQ4.ipynb\" target=\"_parent\"><img src=\"https://colab.research.google.com/assets/colab-badge.svg\" alt=\"Open In Colab\"/></a>"
      ]
    },
    {
      "cell_type": "markdown",
      "source": [
        "Q2"
      ],
      "metadata": {
        "id": "IkYuYeY9dWVB"
      }
    },
    {
      "cell_type": "code",
      "execution_count": 2,
      "metadata": {
        "colab": {
          "base_uri": "https://localhost:8080/"
        },
        "id": "cTHo7I2kbuZt",
        "outputId": "310454eb-1b32-4e4b-c1b7-8254af92c3a7"
      },
      "outputs": [
        {
          "output_type": "stream",
          "name": "stdout",
          "text": [
            "['jai.singh']\n"
          ]
        }
      ],
      "source": [
        "def find_usernames(email_addresses):\n",
        "    usernames = []\n",
        "    for email in email_addresses:\n",
        "        username = email.split('@')[0]\n",
        "        usernames.append(username)\n",
        "    return usernames\n",
        "\n",
        "email_addresses = [\"jai.singh@btech.christuniverisity.in\"]\n",
        "usernames = find_usernames(email_addresses)\n",
        "print(usernames)\n"
      ]
    },
    {
      "cell_type": "markdown",
      "source": [
        "Q3"
      ],
      "metadata": {
        "id": "duIM54qlda9B"
      }
    },
    {
      "cell_type": "code",
      "source": [
        "import nltk\n",
        "from nltk import word_tokenize, pos_tag, ne_chunk\n",
        "from nltk.tree import Tree\n",
        "\n",
        "nltk.download('punkt')\n",
        "nltk.download('averaged_perceptron_tagger')\n",
        "nltk.download('maxent_ne_chunker')\n",
        "nltk.download('words')\n",
        "\n"
      ],
      "metadata": {
        "colab": {
          "base_uri": "https://localhost:8080/"
        },
        "id": "CC7yJQYpcDxc",
        "outputId": "da367c78-e219-47cd-8c65-db9f7638702a"
      },
      "execution_count": 11,
      "outputs": [
        {
          "output_type": "stream",
          "name": "stderr",
          "text": [
            "[nltk_data] Downloading package punkt to /root/nltk_data...\n",
            "[nltk_data]   Package punkt is already up-to-date!\n",
            "[nltk_data] Downloading package averaged_perceptron_tagger to\n",
            "[nltk_data]     /root/nltk_data...\n",
            "[nltk_data]   Package averaged_perceptron_tagger is already up-to-\n",
            "[nltk_data]       date!\n",
            "[nltk_data] Downloading package maxent_ne_chunker to\n",
            "[nltk_data]     /root/nltk_data...\n",
            "[nltk_data]   Package maxent_ne_chunker is already up-to-date!\n",
            "[nltk_data] Downloading package words to /root/nltk_data...\n",
            "[nltk_data]   Package words is already up-to-date!\n"
          ]
        },
        {
          "output_type": "execute_result",
          "data": {
            "text/plain": [
              "True"
            ]
          },
          "metadata": {},
          "execution_count": 11
        }
      ]
    },
    {
      "cell_type": "code",
      "source": [
        "def find_names(text):\n",
        "    tokens = word_tokenize(text)\n",
        "    pos_tags = pos_tag(tokens)\n",
        "    named_entities = ne_chunk(pos_tags, binary=False)\n",
        "\n",
        "    names = set()\n",
        "    for entity in named_entities:\n",
        "        if isinstance(entity, Tree):\n",
        "            entity_type = entity.label()\n",
        "            if entity_type in ['PERSON']:\n",
        "                name = ' '.join([word for word, pos in entity.leaves()])\n",
        "                names.add(name)\n",
        "\n",
        "    return names\n",
        "\n",
        "text = \"Obama went to meet Putin.\"\n",
        "names = find_names(text)\n",
        "print(names)\n"
      ],
      "metadata": {
        "colab": {
          "base_uri": "https://localhost:8080/"
        },
        "id": "slOC4OwJcj1T",
        "outputId": "a87d9054-3113-4e6b-b7b4-2f0171a51ae7"
      },
      "execution_count": 7,
      "outputs": [
        {
          "output_type": "stream",
          "name": "stdout",
          "text": [
            "{'Obama', 'Putin'}\n"
          ]
        }
      ]
    },
    {
      "cell_type": "markdown",
      "source": [
        "Q4 With Count Vectorizer"
      ],
      "metadata": {
        "id": "FbxnvYHsc_fD"
      }
    },
    {
      "cell_type": "code",
      "source": [
        "from sklearn.feature_extraction.text import CountVectorizer\n",
        "\n",
        "documents = [\n",
        "    \"This is the first document.\",\n",
        "    \"This document is the second document.\",\n",
        "    \"And this is the third one.\",\n",
        "    \"Is this the first document?\"\n",
        "]\n",
        "\n",
        "vectorizer = CountVectorizer()\n",
        "\n",
        "X = vectorizer.fit_transform(documents)\n",
        "feature_names = vectorizer.get_feature_names_out()\n",
        "X_dense = X.toarray()\n",
        "\n",
        "print(\"Feature Names:\", feature_names)\n",
        "print(\"Bag-of-Words Vectors:\\n\", X_dense)\n"
      ],
      "metadata": {
        "colab": {
          "base_uri": "https://localhost:8080/"
        },
        "id": "6xQ9fQygcsZI",
        "outputId": "46473360-5286-4527-b3ca-3d6d64b15115"
      },
      "execution_count": 9,
      "outputs": [
        {
          "output_type": "stream",
          "name": "stdout",
          "text": [
            "Feature Names: ['and' 'document' 'first' 'is' 'one' 'second' 'the' 'third' 'this']\n",
            "Bag-of-Words Vectors:\n",
            " [[0 1 1 1 0 0 1 0 1]\n",
            " [0 2 0 1 0 1 1 0 1]\n",
            " [1 0 0 1 1 0 1 1 1]\n",
            " [0 1 1 1 0 0 1 0 1]]\n"
          ]
        }
      ]
    },
    {
      "cell_type": "markdown",
      "source": [
        "Q4 Without Count Vectorizer"
      ],
      "metadata": {
        "id": "kjHUU_BwdJrv"
      }
    },
    {
      "cell_type": "code",
      "source": [
        "import re\n",
        "from collections import defaultdict\n",
        "\n",
        "documents = [\n",
        "    \"This is the first document.\",\n",
        "    \"This document is the second document.\",\n",
        "    \"And this is the third one.\",\n",
        "    \"Is this the first document?\"\n",
        "]\n",
        "\n",
        "tokenized_documents = [\n",
        "    re.findall(r'\\b\\w+\\b', doc.lower()) for doc in documents\n",
        "]\n",
        "\n",
        "vocab = set()\n",
        "for doc in tokenized_documents:\n",
        "    vocab.update(doc)\n",
        "\n",
        "vocab = sorted(vocab)\n",
        "word_index = {word: idx for idx, word in enumerate(vocab)}\n",
        "\n",
        "bow_vectors = []\n",
        "\n",
        "for doc in tokenized_documents:\n",
        "    vector = [0] * len(vocab)\n",
        "\n",
        "    for word in doc:\n",
        "        if word in word_index:\n",
        "            index = word_index[word]\n",
        "            vector[index] += 1\n",
        "\n",
        "    bow_vectors.append(vector)\n",
        "\n",
        "print(\"Vocabulary:\", vocab)\n",
        "print(\"Bag-of-Words Vectors:\\n\", bow_vectors)\n"
      ],
      "metadata": {
        "colab": {
          "base_uri": "https://localhost:8080/"
        },
        "id": "hzv_MbNVdD5_",
        "outputId": "9c592013-848e-4aac-b93f-c3bc95021a01"
      },
      "execution_count": 10,
      "outputs": [
        {
          "output_type": "stream",
          "name": "stdout",
          "text": [
            "Vocabulary: ['and', 'document', 'first', 'is', 'one', 'second', 'the', 'third', 'this']\n",
            "Bag-of-Words Vectors:\n",
            " [[0, 1, 1, 1, 0, 0, 1, 0, 1], [0, 2, 0, 1, 0, 1, 1, 0, 1], [1, 0, 0, 1, 1, 0, 1, 1, 1], [0, 1, 1, 1, 0, 0, 1, 0, 1]]\n"
          ]
        }
      ]
    }
  ]
}