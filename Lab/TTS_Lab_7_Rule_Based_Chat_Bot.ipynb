{
  "nbformat": 4,
  "nbformat_minor": 0,
  "metadata": {
    "colab": {
      "provenance": [],
      "authorship_tag": "ABX9TyM1ezfzGGJ9QcjB8kuRs9nl",
      "include_colab_link": true
    },
    "kernelspec": {
      "name": "python3",
      "display_name": "Python 3"
    },
    "language_info": {
      "name": "python"
    }
  },
  "cells": [
    {
      "cell_type": "markdown",
      "metadata": {
        "id": "view-in-github",
        "colab_type": "text"
      },
      "source": [
        "<a href=\"https://colab.research.google.com/github/Jaizxzx/TTS/blob/main/Lab/TTS_Lab_7_Rule_Based_Chat_Bot.ipynb\" target=\"_parent\"><img src=\"https://colab.research.google.com/assets/colab-badge.svg\" alt=\"Open In Colab\"/></a>"
      ]
    },
    {
      "cell_type": "code",
      "execution_count": 7,
      "metadata": {
        "colab": {
          "base_uri": "https://localhost:8080/"
        },
        "id": "npwCOx3w3CUC",
        "outputId": "dc95f705-d040-49ee-e31b-dbc672f6792f"
      },
      "outputs": [
        {
          "output_type": "stream",
          "name": "stderr",
          "text": [
            "[nltk_data] Downloading package punkt to /root/nltk_data...\n",
            "[nltk_data]   Package punkt is already up-to-date!\n",
            "[nltk_data] Downloading package stopwords to /root/nltk_data...\n",
            "[nltk_data]   Package stopwords is already up-to-date!\n"
          ]
        },
        {
          "output_type": "stream",
          "name": "stdout",
          "text": [
            "Resume Chatbot: Hello! I'm Jai Singh Rathore's resume chatbot. What would you like to know about Jai's background?\n",
            "You: what is his skills\n",
            "Resume Chatbot: My skills include C++, Python, C, Java, Unreal Blueprints, OpenGL, GLSL, Unreal Engine, Blender, Visual Studio, NumPy, Pandas, Tensorflow, Keras, PyTorch, machine learning, deep learning, multiplayer development, version control (Git, GitHub, GitLab, Perforce), and front-end development (Bootstrap, HTML, CSS). I'm also a team player with a bias for action.\n",
            "You: does he has any experience\n",
            "Resume Chatbot: I have experience as a Game Developer at Steel Frog Studios (from 29/3/2024 to present, working remotely) and Nightingale Studios (from 29/4/2024 to 29/5/2024, also remote). At Steel Frog, I worked on RTP (Viva Piñata), developing features like a switchable first/third person custom cursor game mode and a Discord Plugin for Unreal Engine. At Nightingale Studios, I worked on Birth of the Alliance, implementing custom flying mechanics for the spaceship and Discord Plugin integration.\n",
            "You: has he done any coursework\n",
            "Resume Chatbot: My coursework includes Unreal Engine Blueprints, C++, C++ for Unreal Engine, GPU Architecture, XAMK game development (ongoing diploma), MIT Deep Learning (ongoing), Unreal Engine Multiplayer Architecture (ongoing), and I'm studying AI for Games from Ian Millington's book.\n",
            "You: what are his skills\n",
            "Resume Chatbot: My skills include C++, Python, C, Java, Unreal Blueprints, OpenGL, GLSL, Unreal Engine, Blender, Visual Studio, NumPy, Pandas, Tensorflow, Keras, PyTorch, machine learning, deep learning, multiplayer development, version control (Git, GitHub, GitLab, Perforce), and front-end development (Bootstrap, HTML, CSS). I'm also a team player with a bias for action.\n",
            "You: exit\n",
            "Resume Chatbot: Thank you for your interest in Jai Singh Rathore's resume. Goodbye!\n"
          ]
        }
      ],
      "source": [
        "import nltk\n",
        "from nltk.tokenize import word_tokenize\n",
        "from nltk.corpus import stopwords\n",
        "from sklearn.feature_extraction.text import TfidfVectorizer\n",
        "from sklearn.metrics.pairwise import cosine_similarity\n",
        "import re\n",
        "\n",
        "nltk.download('punkt')\n",
        "nltk.download('stopwords')\n",
        "\n",
        "resume_content = \"\"\"\n",
        "Jai Singh Rathore\n",
        "📞7976128772 | ✉ jaisinghrathore4432@gmail.com | Jai Singh Rathore | Jaizxzx | Jaizxzx\n",
        "SKILLS\n",
        "Languages | C++ • Python • C • Java • Unreal Blueprints • OpenGL • GLSL\n",
        "Softwares and Tools| Unreal Engine • Blender • Visual Studio • Visual Studio Code • CLion • JetBrains Rider • NumPy • Pandas • SciKit Learn • Matplotlib • Tensorflow • Keras • PyTorch\n",
        "MISCELLANEOUS| Machine learning • Deep Learning • Multiplayer\n",
        "VERSION CONTROL | Git • Git Hub • Git Lab • Perforce\n",
        "FRONT END DEVELOPMENT| Bootstrap • HTML • CSS\n",
        "SOFT SKILLS| Team player • Bias for action\n",
        "EXPERIENCE\n",
        "Steel Frog Studios | C++, Perforce, Unreal Engine, Blueprints\n",
        "Game Developer | 29/3/2024 to present , Remote\n",
        "RTP ( Viva Piñata )\n",
        "● Switchable First Person and Third Person custom cursor game mode ( hoverable and lockable to the interactable objects inside the game )\n",
        "● Discord Plugin for Unreal Engine to integrate the Discord Rich Presence ( Github Repo Link )\n",
        "● Custom Discord Plugin integration\n",
        "Nightingale Studios | C++, Unreal Engine, Blueprints, Git Lab\n",
        "Game Developer | 29/4/2024 to 29/5/2024, Remote\n",
        "Birth of the Alliance\n",
        "● Custom Flying mechanics for the spaceship\n",
        "● Discord Plugin Integration\n",
        "Projects\n",
        "● Music Tune Generator ( Tensorflow and Keras )\n",
        "● Debiasing Facial Detection ( Tensorflow and Keras )\n",
        "● Safe Picture Categorization ( PyTorch - Work In Progress )\n",
        "● Lone - Survivor : A zombie survival game made for the Game Dev.tv game jam.\n",
        "● Discord Unreal Engine Integration Plugin ( Discord Rich Presence integration for Unreal Engine games )\n",
        "● Handwritten number detection ( Deep Learning )\n",
        "● Star Wars Cinematic ( Inspired by Mandalorian made and powered by Unreal Engine )\n",
        "● Halo Remake ( Unreal Engine )\n",
        "● Halo Cinematic ( Work in progress )\n",
        "● Toon Tanks ( Cartoonish Theme based tank game )\n",
        "● Simple Shooter ( Third Person Shooter game with mechanoid )\n",
        "EDUCATION\n",
        "Christ University\n",
        "B.Tech in CSE specialization in AIML\n",
        "2022 - 2026| Bangalore\n",
        "Achievements\n",
        "LeetCode 50+\n",
        "500 + wishlist Birth of Alliance on Steam\n",
        "COURSEWORK\n",
        "● Unreal Engine Blueprints\n",
        "● C++\n",
        "● C++ for Unreal Engine\n",
        "● GPU Architecture\n",
        "● XAMK game development (Diploma ( ongoing ) )\n",
        "● MIT Deep Learning ( ongoing )\n",
        "● Unreal Engine Multiplayer Architecture ( ongoing )\n",
        "● AI for Games ( Book by Ian Millington )\n",
        "INTERESTS\n",
        "Cinematics • Level Design • Art • 3d Modeling • Photogrammetry • Gaussian Splatting\n",
        "\"\"\"\n",
        "\n",
        "def preprocess(text):\n",
        "    text = text.lower()\n",
        "    text = re.sub(r'[^\\w\\s]', ' ', text)\n",
        "    return text\n",
        "\n",
        "preprocessed_resume = preprocess(resume_content)\n",
        "\n",
        "vectorizer = TfidfVectorizer(stop_words='english')\n",
        "resume_vector = vectorizer.fit_transform([preprocessed_resume])\n",
        "\n",
        "def get_most_relevant_section(user_input):\n",
        "    sections = {\n",
        "        \"personal\": \"Jai Singh Rathore 📞7976128772 | ✉ jaisinghrathore4432@gmail.com\",\n",
        "        \"skills\": \"SKILLS Languages | C++ • Python • C • Java • Unreal Blueprints • OpenGL • GLSL Softwares and Tools| Unreal Engine • Blender • Visual Studio • Visual Studio Code • CLion • JetBrains Rider • NumPy • Pandas • SciKit Learn • Matplotlib • Tensorflow • Keras • PyTorch MISCELLANEOUS| Machine learning • Deep Learning • Multiplayer VERSION CONTROL | Git • Git Hub • Git Lab • Perforce FRONT END DEVELOPMENT| Bootstrap • HTML • CSS SOFT SKILLS| Team player • Bias for action\",\n",
        "        \"experience\": \"EXPERIENCE Steel Frog Studios | C++, Perforce, Unreal Engine, Blueprints Game Developer | 29/3/2024 to present , Remote RTP ( Viva Piñata ) Nightingale Studios | C++, Unreal Engine, Blueprints, Git Lab Game Developer | 29/4/2024 to 29/5/2024, Remote Birth of the Alliance\",\n",
        "        \"projects\": \"Projects ● Music Tune Generator ( Tensorflow and Keras ) ● Debiasing Facial Detection ( Tensorflow and Keras ) ● Safe Picture Categorization ( PyTorch - Work In Progress ) ● Lone - Survivor : A zombie survival game made for the Game Dev.tv game jam. ● Discord Unreal Engine Integration Plugin ( Discord Rich Presence integration for Unreal Engine games ) ● Handwritten number detection ( Deep Learning ) ● Star Wars Cinematic ( Inspired by Mandalorian made and powered by Unreal Engine ) ● Halo Remake ( Unreal Engine ) ● Halo Cinematic ( Work in progress ) ● Toon Tanks ( Cartoonish Theme based tank game ) ● Simple Shooter ( Third Person Shooter game with mechanoid )\",\n",
        "        \"education\": \"EDUCATION Christ University B.Tech in CSE specialization in AIML 2022 - 2026| Bangalore\",\n",
        "        \"achievements\": \"Achievements LeetCode 50+ 500 + wishlist Birth of Alliance on Steam\",\n",
        "        \"coursework\": \"COURSEWORK ● Unreal Engine Blueprints ● C++ ● C++ for Unreal Engine ● GPU Architecture ● XAMK game development (Diploma ( ongoing ) ) ● MIT Deep Learning ( ongoing ) ● Unreal Engine Multiplayer Architecture ( ongoing ) ● AI for Games ( Book by Ian Millington )\",\n",
        "        \"interests\": \"INTERESTS Cinematics • Level Design • Art • 3d Modeling • Photogrammetry • Gaussian Splatting\"\n",
        "    }\n",
        "\n",
        "    input_vector = vectorizer.transform([preprocess(user_input)])\n",
        "    similarities = {}\n",
        "\n",
        "    for section, content in sections.items():\n",
        "        section_vector = vectorizer.transform([preprocess(content)])\n",
        "        similarity = cosine_similarity(input_vector, section_vector)[0][0]\n",
        "        similarities[section] = similarity\n",
        "\n",
        "    return max(similarities, key=similarities.get)\n",
        "\n",
        "def get_response(user_input):\n",
        "    relevant_section = get_most_relevant_section(user_input)\n",
        "\n",
        "    if relevant_section == \"personal\":\n",
        "        return \"My name is Jai Singh Rathore. You can contact me at 7976128772 or jaisinghrathore4432@gmail.com.\"\n",
        "    elif relevant_section == \"skills\":\n",
        "        return \"My skills include C++, Python, C, Java, Unreal Blueprints, OpenGL, GLSL, Unreal Engine, Blender, Visual Studio, NumPy, Pandas, Tensorflow, Keras, PyTorch, machine learning, deep learning, multiplayer development, version control (Git, GitHub, GitLab, Perforce), and front-end development (Bootstrap, HTML, CSS). I'm also a team player with a bias for action.\"\n",
        "    elif relevant_section == \"experience\":\n",
        "        return \"I have experience as a Game Developer at Steel Frog Studios (from 29/3/2024 to present, working remotely) and Nightingale Studios (from 29/4/2024 to 29/5/2024, also remote). At Steel Frog, I worked on RTP (Viva Piñata), developing features like a switchable first/third person custom cursor game mode and a Discord Plugin for Unreal Engine. At Nightingale Studios, I worked on Birth of the Alliance, implementing custom flying mechanics for the spaceship and Discord Plugin integration.\"\n",
        "    elif relevant_section == \"projects\":\n",
        "        return \"I've worked on various projects including: Music Tune Generator and Debiasing Facial Detection using Tensorflow and Keras, Safe Picture Categorization using PyTorch, Lone-Survivor (a zombie survival game), Discord Unreal Engine Integration Plugin, Handwritten number detection using Deep Learning, Star Wars Cinematic inspired by Mandalorian, Halo Remake and Cinematic using Unreal Engine, Toon Tanks (a cartoonish tank game), and Simple Shooter (a third-person shooter game with mechanoid).\"\n",
        "    elif relevant_section == \"education\":\n",
        "        return \"I'm pursuing a B.Tech in CSE specialization in AIML at Christ University, Bangalore, from 2022 to 2026.\"\n",
        "    elif relevant_section == \"achievements\":\n",
        "        return \"I've completed over 50 problems on LeetCode, and my game 'Birth of Alliance' has received over 500 wishlists on Steam.\"\n",
        "    elif relevant_section == \"coursework\":\n",
        "        return \"My coursework includes Unreal Engine Blueprints, C++, C++ for Unreal Engine, GPU Architecture, XAMK game development (ongoing diploma), MIT Deep Learning (ongoing), Unreal Engine Multiplayer Architecture (ongoing), and I'm studying AI for Games from Ian Millington's book.\"\n",
        "    elif relevant_section == \"interests\":\n",
        "        return \"My interests include Cinematics, Level Design, Art, 3D Modeling, Photogrammetry, and Gaussian Splatting.\"\n",
        "    else:\n",
        "        return \"I'm sorry, I couldn't find specific information to answer that question. Could you please ask about my skills, experience, projects, education, achievements, coursework, or interests?\"\n",
        "\n",
        "print(\"Resume Chatbot: Hello! I'm Jai Singh Rathore's resume chatbot. What would you like to know about Jai's background?\")\n",
        "while True:\n",
        "    user_input = input(\"You: \")\n",
        "    if user_input.lower() in ['quit', 'exit', 'bye']:\n",
        "        print(\"Resume Chatbot: Thank you for your interest in Jai Singh Rathore's resume. Goodbye!\")\n",
        "        break\n",
        "    response = get_response(user_input)\n",
        "    print(\"Resume Chatbot:\", response)"
      ]
    },
    {
      "cell_type": "code",
      "source": [],
      "metadata": {
        "id": "PFgyK_q0--ND"
      },
      "execution_count": 7,
      "outputs": []
    }
  ]
}